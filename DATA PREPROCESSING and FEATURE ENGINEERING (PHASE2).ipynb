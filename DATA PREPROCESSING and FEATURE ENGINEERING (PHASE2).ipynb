{
 "cells": [
  {
   "cell_type": "code",
   "execution_count": 1,
   "metadata": {},
   "outputs": [],
   "source": [
    "import pandas as pd\n",
    "import numpy as np\n",
    "import matplotlib.pyplot as plt\n",
    "import seaborn as sns\n",
    "from sklearn.preprocessing import StandardScaler, MinMaxScaler, LabelEncoder, OneHotEncoder\n",
    "from sklearn.impute import SimpleImputer\n",
    "from sklearn.decomposition import PCA\n",
    "from sklearn.model_selection import train_test_split "
   ]
  },
  {
   "cell_type": "code",
   "execution_count": 2,
   "metadata": {},
   "outputs": [],
   "source": [
    "# Load the dataset\n",
    "data = pd.read_csv(\"C:\\\\Users\\\\asaha\\\\Downloads\\\\german_credit_data.csv\")"
   ]
  },
  {
   "cell_type": "code",
   "execution_count": 3,
   "metadata": {},
   "outputs": [
    {
     "name": "stdout",
     "output_type": "stream",
     "text": [
      "   Unnamed: 0  Age     Sex  Job Housing Saving accounts Checking account  \\\n",
      "0           0   67    male    2     own             NaN           little   \n",
      "1           1   22  female    2     own          little         moderate   \n",
      "2           2   49    male    1     own          little              NaN   \n",
      "3           3   45    male    2    free          little           little   \n",
      "4           4   53    male    2    free          little           little   \n",
      "\n",
      "   Credit amount  Duration              Purpose  \n",
      "0           1169         6             radio/TV  \n",
      "1           5951        48             radio/TV  \n",
      "2           2096        12            education  \n",
      "3           7882        42  furniture/equipment  \n",
      "4           4870        24                  car  \n"
     ]
    }
   ],
   "source": [
    "# # Exploratory Data Analysis (EDA)\n",
    "# Print the first few rows of the dataset\n",
    "print(data.head())"
   ]
  },
  {
   "cell_type": "code",
   "execution_count": 4,
   "metadata": {},
   "outputs": [
    {
     "name": "stdout",
     "output_type": "stream",
     "text": [
      "        Unnamed: 0          Age          Job  Credit amount     Duration\n",
      "count  1000.000000  1000.000000  1000.000000    1000.000000  1000.000000\n",
      "mean    499.500000    35.546000     1.904000    3271.258000    20.903000\n",
      "std     288.819436    11.375469     0.653614    2822.736876    12.058814\n",
      "min       0.000000    19.000000     0.000000     250.000000     4.000000\n",
      "25%     249.750000    27.000000     2.000000    1365.500000    12.000000\n",
      "50%     499.500000    33.000000     2.000000    2319.500000    18.000000\n",
      "75%     749.250000    42.000000     2.000000    3972.250000    24.000000\n",
      "max     999.000000    75.000000     3.000000   18424.000000    72.000000\n"
     ]
    }
   ],
   "source": [
    "# Summary statistics\n",
    "print(data.describe())"
   ]
  },
  {
   "cell_type": "code",
   "execution_count": 5,
   "metadata": {},
   "outputs": [
    {
     "name": "stdout",
     "output_type": "stream",
     "text": [
      "Unnamed: 0            0\n",
      "Age                   0\n",
      "Sex                   0\n",
      "Job                   0\n",
      "Housing               0\n",
      "Saving accounts     183\n",
      "Checking account    394\n",
      "Credit amount         0\n",
      "Duration              0\n",
      "Purpose               0\n",
      "dtype: int64\n"
     ]
    }
   ],
   "source": [
    "# Check for missing values\n",
    "print(data.isnull().sum())"
   ]
  },
  {
   "cell_type": "markdown",
   "metadata": {},
   "source": [
    "## DATA CLEANING"
   ]
  },
  {
   "cell_type": "code",
   "execution_count": 6,
   "metadata": {},
   "outputs": [],
   "source": [
    "# Remove duplicates if any\n",
    "data.drop_duplicates(inplace=True)"
   ]
  },
  {
   "cell_type": "code",
   "execution_count": 7,
   "metadata": {},
   "outputs": [],
   "source": [
    "# Handle incorrect data entries, e.g., negative values in 'Age'\n",
    "data = data[data['Age'] > 0]"
   ]
  },
  {
   "cell_type": "markdown",
   "metadata": {},
   "source": [
    "## DATA IMPUTATION"
   ]
  },
  {
   "cell_type": "code",
   "execution_count": 10,
   "metadata": {},
   "outputs": [],
   "source": [
    "# Impute missing values for categorical columns with the most frequent value\n",
    "categorical_imputer = SimpleImputer(strategy='most_frequent')\n",
    "categorical_cols = ['Sex', 'Job', 'Housing', 'Saving accounts', 'Checking account', 'Purpose']\n",
    "data[categorical_cols] = categorical_imputer.fit_transform(data[categorical_cols])"
   ]
  },
  {
   "cell_type": "code",
   "execution_count": 11,
   "metadata": {},
   "outputs": [],
   "source": [
    "# Impute missing values for numerical columns with the median\n",
    "numerical_imputer = SimpleImputer(strategy='median')\n",
    "numerical_cols = ['Age', 'Credit amount', 'Duration']\n",
    "data[numerical_cols] = numerical_imputer.fit_transform(data[numerical_cols])"
   ]
  },
  {
   "cell_type": "code",
   "execution_count": 12,
   "metadata": {},
   "outputs": [
    {
     "name": "stdout",
     "output_type": "stream",
     "text": [
      "Unnamed: 0          0\n",
      "Age                 0\n",
      "Sex                 0\n",
      "Job                 0\n",
      "Housing             0\n",
      "Saving accounts     0\n",
      "Checking account    0\n",
      "Credit amount       0\n",
      "Duration            0\n",
      "Purpose             0\n",
      "dtype: int64\n"
     ]
    }
   ],
   "source": [
    "# Verify that there are no missing values\n",
    "print(data.isnull().sum())"
   ]
  },
  {
   "cell_type": "markdown",
   "metadata": {},
   "source": [
    "## DATA ENCODING"
   ]
  },
  {
   "cell_type": "code",
   "execution_count": 13,
   "metadata": {},
   "outputs": [],
   "source": [
    "# Encode categorical variables using OneHotEncoder\n",
    "data = pd.get_dummies(data, columns=categorical_cols, drop_first=True)"
   ]
  },
  {
   "cell_type": "markdown",
   "metadata": {},
   "source": [
    "## DATA NORMALIZATION AND SCALING"
   ]
  },
  {
   "cell_type": "code",
   "execution_count": 14,
   "metadata": {},
   "outputs": [],
   "source": [
    "# Normalize numerical features using MinMaxScaler\n",
    "scaler = MinMaxScaler()\n",
    "data[numerical_cols] = scaler.fit_transform(data[numerical_cols])"
   ]
  },
  {
   "cell_type": "markdown",
   "metadata": {},
   "source": [
    "## DATA REDUCTION"
   ]
  },
  {
   "cell_type": "code",
   "execution_count": 15,
   "metadata": {},
   "outputs": [],
   "source": [
    "# Apply PCA to reduce dimensionality\n",
    "pca = PCA(n_components=5)\n",
    "data_pca = pca.fit_transform(data)"
   ]
  },
  {
   "cell_type": "markdown",
   "metadata": {},
   "source": [
    "## DATA SAMPLING "
   ]
  },
  {
   "cell_type": "code",
   "execution_count": 16,
   "metadata": {},
   "outputs": [],
   "source": [
    "# Split the data into training and testing sets\n",
    "X = data.drop('Credit amount', axis=1)  # Assuming 'Credit amount' is the target variable\n",
    "y = data['Credit amount']\n",
    "X_train, X_test, y_train, y_test = train_test_split(X, y, test_size=0.2, random_state=42)"
   ]
  },
  {
   "cell_type": "code",
   "execution_count": 17,
   "metadata": {},
   "outputs": [
    {
     "name": "stdout",
     "output_type": "stream",
     "text": [
      "Training data shape: (800, 21)\n",
      "Testing data shape: (200, 21)\n"
     ]
    }
   ],
   "source": [
    "# Print shapes of the datasets\n",
    "print(f'Training data shape: {X_train.shape}')\n",
    "print(f'Testing data shape: {X_test.shape}')"
   ]
  },
  {
   "cell_type": "markdown",
   "metadata": {},
   "source": [
    "## DATA INTEGRATION"
   ]
  },
  {
   "cell_type": "code",
   "execution_count": 18,
   "metadata": {},
   "outputs": [],
   "source": [
    "# Integrate the PCA components back to the dataset if needed\n",
    "data_pca_df = pd.DataFrame(data_pca, columns=[f'PCA_{i}' for i in range(1, 6)])\n",
    "final_data = pd.concat([data.reset_index(drop=True), data_pca_df], axis=1)"
   ]
  },
  {
   "cell_type": "code",
   "execution_count": 19,
   "metadata": {},
   "outputs": [
    {
     "name": "stdout",
     "output_type": "stream",
     "text": [
      "   Unnamed: 0       Age  Credit amount  Duration  Sex_male  Job_1  Job_2  \\\n",
      "0           0  0.857143       0.050567  0.029412      True  False   True   \n",
      "1           1  0.053571       0.313690  0.647059     False  False   True   \n",
      "2           2  0.535714       0.101574  0.117647      True   True  False   \n",
      "3           3  0.464286       0.419941  0.558824      True  False   True   \n",
      "4           4  0.607143       0.254209  0.294118      True  False   True   \n",
      "\n",
      "   Job_3  Housing_own  Housing_rent  ...  Purpose_education  \\\n",
      "0  False         True         False  ...              False   \n",
      "1  False         True         False  ...              False   \n",
      "2  False         True         False  ...               True   \n",
      "3  False        False         False  ...              False   \n",
      "4  False        False         False  ...              False   \n",
      "\n",
      "   Purpose_furniture/equipment  Purpose_radio/TV  Purpose_repairs  \\\n",
      "0                        False              True            False   \n",
      "1                        False              True            False   \n",
      "2                        False             False            False   \n",
      "3                         True             False            False   \n",
      "4                        False             False            False   \n",
      "\n",
      "   Purpose_vacation/others       PCA_1     PCA_2     PCA_3     PCA_4     PCA_5  \n",
      "0                    False -499.500041  0.805378  0.388429  0.033191 -0.271578  \n",
      "1                    False -498.500110  0.754085  0.084612 -0.426094 -0.422876  \n",
      "2                    False -497.500008 -0.516828  0.757056 -0.293692  0.405977  \n",
      "3                    False -496.499982  0.261495 -0.630315  0.046489  0.450586  \n",
      "4                    False -495.499891 -0.236141 -0.592169  0.806977 -0.222985  \n",
      "\n",
      "[5 rows x 27 columns]\n"
     ]
    }
   ],
   "source": [
    "print(final_data.head())"
   ]
  }
 ],
 "metadata": {
  "kernelspec": {
   "display_name": "Python 3",
   "language": "python",
   "name": "python3"
  },
  "language_info": {
   "codemirror_mode": {
    "name": "ipython",
    "version": 3
   },
   "file_extension": ".py",
   "mimetype": "text/x-python",
   "name": "python",
   "nbconvert_exporter": "python",
   "pygments_lexer": "ipython3",
   "version": "3.11.3"
  }
 },
 "nbformat": 4,
 "nbformat_minor": 2
}
