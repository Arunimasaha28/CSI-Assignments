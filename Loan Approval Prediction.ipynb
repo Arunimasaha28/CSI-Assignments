{
 "cells": [
  {
   "cell_type": "code",
   "execution_count": 1,
   "metadata": {},
   "outputs": [],
   "source": [
    "import pandas as pd\n",
    "import numpy as np\n",
    "from sklearn.preprocessing import LabelEncoder, StandardScaler\n",
    "from sklearn.impute import SimpleImputer \n",
    "from sklearn.model_selection import train_test_split "
   ]
  },
  {
   "cell_type": "code",
   "execution_count": 2,
   "metadata": {},
   "outputs": [],
   "source": [
    "# Load the dataset\n",
    "df = pd.read_csv(\"C:\\\\Users\\\\asaha\\\\Downloads\\\\archive\\\\Training Dataset.csv\")"
   ]
  },
  {
   "cell_type": "code",
   "execution_count": 3,
   "metadata": {},
   "outputs": [
    {
     "name": "stdout",
     "output_type": "stream",
     "text": [
      "    Loan_ID Gender Married Dependents     Education Self_Employed  \\\n",
      "0  LP001002   Male      No          0      Graduate            No   \n",
      "1  LP001003   Male     Yes          1      Graduate            No   \n",
      "2  LP001005   Male     Yes          0      Graduate           Yes   \n",
      "3  LP001006   Male     Yes          0  Not Graduate            No   \n",
      "4  LP001008   Male      No          0      Graduate            No   \n",
      "\n",
      "   ApplicantIncome  CoapplicantIncome  LoanAmount  Loan_Amount_Term  \\\n",
      "0             5849                0.0         NaN             360.0   \n",
      "1             4583             1508.0       128.0             360.0   \n",
      "2             3000                0.0        66.0             360.0   \n",
      "3             2583             2358.0       120.0             360.0   \n",
      "4             6000                0.0       141.0             360.0   \n",
      "\n",
      "   Credit_History Property_Area Loan_Status  \n",
      "0             1.0         Urban           Y  \n",
      "1             1.0         Rural           N  \n",
      "2             1.0         Urban           Y  \n",
      "3             1.0         Urban           Y  \n",
      "4             1.0         Urban           Y  \n"
     ]
    }
   ],
   "source": [
    "# Initial inspection\n",
    "print(df.head())"
   ]
  },
  {
   "cell_type": "code",
   "execution_count": 4,
   "metadata": {},
   "outputs": [
    {
     "name": "stdout",
     "output_type": "stream",
     "text": [
      "<class 'pandas.core.frame.DataFrame'>\n",
      "RangeIndex: 614 entries, 0 to 613\n",
      "Data columns (total 13 columns):\n",
      " #   Column             Non-Null Count  Dtype  \n",
      "---  ------             --------------  -----  \n",
      " 0   Loan_ID            614 non-null    object \n",
      " 1   Gender             601 non-null    object \n",
      " 2   Married            611 non-null    object \n",
      " 3   Dependents         599 non-null    object \n",
      " 4   Education          614 non-null    object \n",
      " 5   Self_Employed      582 non-null    object \n",
      " 6   ApplicantIncome    614 non-null    int64  \n",
      " 7   CoapplicantIncome  614 non-null    float64\n",
      " 8   LoanAmount         592 non-null    float64\n",
      " 9   Loan_Amount_Term   600 non-null    float64\n",
      " 10  Credit_History     564 non-null    float64\n",
      " 11  Property_Area      614 non-null    object \n",
      " 12  Loan_Status        614 non-null    object \n",
      "dtypes: float64(4), int64(1), object(8)\n",
      "memory usage: 62.5+ KB\n",
      "None\n"
     ]
    }
   ],
   "source": [
    "print(df.info())"
   ]
  },
  {
   "cell_type": "code",
   "execution_count": 5,
   "metadata": {},
   "outputs": [
    {
     "name": "stdout",
     "output_type": "stream",
     "text": [
      "       ApplicantIncome  CoapplicantIncome  LoanAmount  Loan_Amount_Term  \\\n",
      "count       614.000000         614.000000  592.000000         600.00000   \n",
      "mean       5403.459283        1621.245798  146.412162         342.00000   \n",
      "std        6109.041673        2926.248369   85.587325          65.12041   \n",
      "min         150.000000           0.000000    9.000000          12.00000   \n",
      "25%        2877.500000           0.000000  100.000000         360.00000   \n",
      "50%        3812.500000        1188.500000  128.000000         360.00000   \n",
      "75%        5795.000000        2297.250000  168.000000         360.00000   \n",
      "max       81000.000000       41667.000000  700.000000         480.00000   \n",
      "\n",
      "       Credit_History  \n",
      "count      564.000000  \n",
      "mean         0.842199  \n",
      "std          0.364878  \n",
      "min          0.000000  \n",
      "25%          1.000000  \n",
      "50%          1.000000  \n",
      "75%          1.000000  \n",
      "max          1.000000  \n"
     ]
    }
   ],
   "source": [
    "print(df.describe())"
   ]
  },
  {
   "cell_type": "code",
   "execution_count": 6,
   "metadata": {},
   "outputs": [],
   "source": [
    "# Handling missing values\n",
    "# For categorical features: Use mode (most frequent value)\n",
    "cat_features = ['Gender', 'Married', 'Dependents', 'Education', 'Self_Employed', 'Property_Area']\n",
    "imputer_cat = SimpleImputer(strategy='most_frequent')\n",
    "df[cat_features] = imputer_cat.fit_transform(df[cat_features])"
   ]
  },
  {
   "cell_type": "code",
   "execution_count": 7,
   "metadata": {},
   "outputs": [],
   "source": [
    "# For numerical features: Use median\n",
    "num_features = ['ApplicantIncome', 'CoapplicantIncome', 'LoanAmount', 'Loan_Amount_Term', 'Credit_History']\n",
    "imputer_num = SimpleImputer(strategy='median')\n",
    "df[num_features] = imputer_num.fit_transform(df[num_features])"
   ]
  },
  {
   "cell_type": "code",
   "execution_count": 8,
   "metadata": {},
   "outputs": [],
   "source": [
    "# Encoding categorical variables\n",
    "# Label Encoding for binary categorical variables\n",
    "label_enc = LabelEncoder()\n",
    "df['Gender'] = label_enc.fit_transform(df['Gender'])\n",
    "df['Married'] = label_enc.fit_transform(df['Married'])\n",
    "df['Self_Employed'] = label_enc.fit_transform(df['Self_Employed'])"
   ]
  },
  {
   "cell_type": "code",
   "execution_count": 9,
   "metadata": {},
   "outputs": [],
   "source": [
    "# One-Hot Encoding for multi-class categorical variables\n",
    "df = pd.get_dummies(df, columns=['Dependents', 'Education', 'Property_Area'])"
   ]
  },
  {
   "cell_type": "code",
   "execution_count": 10,
   "metadata": {},
   "outputs": [],
   "source": [
    "# Feature Scaling\n",
    "# Scaling numerical features\n",
    "scaler = StandardScaler()\n",
    "df[num_features] = scaler.fit_transform(df[num_features])"
   ]
  },
  {
   "cell_type": "code",
   "execution_count": 11,
   "metadata": {},
   "outputs": [
    {
     "name": "stdout",
     "output_type": "stream",
     "text": [
      "Index(['Loan_ID', 'Gender', 'Married', 'Self_Employed', 'ApplicantIncome',\n",
      "       'CoapplicantIncome', 'LoanAmount', 'Loan_Amount_Term', 'Credit_History',\n",
      "       'Loan_Status', 'Dependents_0', 'Dependents_1', 'Dependents_2',\n",
      "       'Dependents_3+', 'Education_Graduate', 'Education_Not Graduate',\n",
      "       'Property_Area_Rural', 'Property_Area_Semiurban',\n",
      "       'Property_Area_Urban'],\n",
      "      dtype='object')\n"
     ]
    }
   ],
   "source": [
    "# Feature Engineering\n",
    "# Creating new features\n",
    "# Check which columns exist after one-hot encoding\n",
    "print(df.columns)"
   ]
  },
  {
   "cell_type": "code",
   "execution_count": 12,
   "metadata": {},
   "outputs": [],
   "source": [
    "# Handle missing dependents columns if they are not present\n",
    "dependents_columns = ['Dependents_0', 'Dependents_1', 'Dependents_2', 'Dependents_3']\n",
    "for col in dependents_columns:\n",
    "    if col not in df.columns:\n",
    "        df[col] = 0"
   ]
  },
  {
   "cell_type": "code",
   "execution_count": 13,
   "metadata": {},
   "outputs": [],
   "source": [
    "df['TotalIncome'] = df['ApplicantIncome'] + df['CoapplicantIncome']\n",
    "df['IncomePerPerson'] = df['TotalIncome'] / (df['Dependents_0'] + df['Dependents_1'] + df['Dependents_2'] + df['Dependents_3'] + 1)"
   ]
  },
  {
   "cell_type": "code",
   "execution_count": 14,
   "metadata": {},
   "outputs": [],
   "source": [
    "# Drop the old or less useful features\n",
    "df = df.drop(columns=['Loan_ID', 'ApplicantIncome', 'CoapplicantIncome', 'TotalIncome'])"
   ]
  },
  {
   "cell_type": "code",
   "execution_count": 15,
   "metadata": {},
   "outputs": [
    {
     "name": "stdout",
     "output_type": "stream",
     "text": [
      "   Gender  Married  Self_Employed  LoanAmount  Loan_Amount_Term  \\\n",
      "0       1        0              0   -0.211241          0.273231   \n",
      "1       1        1              0   -0.211241          0.273231   \n",
      "2       1        1              1   -0.948996          0.273231   \n",
      "3       1        1              0   -0.306435          0.273231   \n",
      "4       1        0              0   -0.056551          0.273231   \n",
      "\n",
      "   Credit_History Loan_Status  Dependents_0  Dependents_1  Dependents_2  \\\n",
      "0        0.411733           Y          True         False         False   \n",
      "1        0.411733           N         False          True         False   \n",
      "2        0.411733           Y          True         False         False   \n",
      "3        0.411733           Y          True         False         False   \n",
      "4        0.411733           Y          True         False         False   \n",
      "\n",
      "   Dependents_3+  Education_Graduate  Education_Not Graduate  \\\n",
      "0          False                True                   False   \n",
      "1          False                True                   False   \n",
      "2          False                True                   False   \n",
      "3          False               False                    True   \n",
      "4          False                True                   False   \n",
      "\n",
      "   Property_Area_Rural  Property_Area_Semiurban  Property_Area_Urban  \\\n",
      "0                False                    False                 True   \n",
      "1                 True                    False                False   \n",
      "2                False                    False                 True   \n",
      "3                False                    False                 True   \n",
      "4                False                    False                 True   \n",
      "\n",
      "   Dependents_3  IncomePerPerson  \n",
      "0             0        -0.240748  \n",
      "1             0        -0.086572  \n",
      "2             0        -0.474117  \n",
      "3             0        -0.105041  \n",
      "4             0        -0.228379  \n"
     ]
    }
   ],
   "source": [
    "# # Final inspection\n",
    "print(df.head())"
   ]
  },
  {
   "cell_type": "code",
   "execution_count": 16,
   "metadata": {},
   "outputs": [
    {
     "name": "stdout",
     "output_type": "stream",
     "text": [
      "<class 'pandas.core.frame.DataFrame'>\n",
      "RangeIndex: 614 entries, 0 to 613\n",
      "Data columns (total 18 columns):\n",
      " #   Column                   Non-Null Count  Dtype  \n",
      "---  ------                   --------------  -----  \n",
      " 0   Gender                   614 non-null    int32  \n",
      " 1   Married                  614 non-null    int32  \n",
      " 2   Self_Employed            614 non-null    int32  \n",
      " 3   LoanAmount               614 non-null    float64\n",
      " 4   Loan_Amount_Term         614 non-null    float64\n",
      " 5   Credit_History           614 non-null    float64\n",
      " 6   Loan_Status              614 non-null    object \n",
      " 7   Dependents_0             614 non-null    bool   \n",
      " 8   Dependents_1             614 non-null    bool   \n",
      " 9   Dependents_2             614 non-null    bool   \n",
      " 10  Dependents_3+            614 non-null    bool   \n",
      " 11  Education_Graduate       614 non-null    bool   \n",
      " 12  Education_Not Graduate   614 non-null    bool   \n",
      " 13  Property_Area_Rural      614 non-null    bool   \n",
      " 14  Property_Area_Semiurban  614 non-null    bool   \n",
      " 15  Property_Area_Urban      614 non-null    bool   \n",
      " 16  Dependents_3             614 non-null    int64  \n",
      " 17  IncomePerPerson          614 non-null    float64\n",
      "dtypes: bool(9), float64(4), int32(3), int64(1), object(1)\n",
      "memory usage: 41.5+ KB\n",
      "None\n"
     ]
    }
   ],
   "source": [
    "print(df.info())"
   ]
  },
  {
   "cell_type": "code",
   "execution_count": 17,
   "metadata": {},
   "outputs": [],
   "source": [
    "# Train-Test Split\n",
    "X = df.drop(columns=['Loan_Status'])\n",
    "y = df['Loan_Status']"
   ]
  },
  {
   "cell_type": "code",
   "execution_count": 18,
   "metadata": {},
   "outputs": [],
   "source": [
    "# Convert target variable to binary\n",
    "y = label_enc.fit_transform(y)"
   ]
  },
  {
   "cell_type": "code",
   "execution_count": 19,
   "metadata": {},
   "outputs": [],
   "source": [
    "X_train, X_test, y_train, y_test = train_test_split(X, y, test_size=0.2, random_state=42)"
   ]
  },
  {
   "cell_type": "code",
   "execution_count": 20,
   "metadata": {},
   "outputs": [
    {
     "name": "stdout",
     "output_type": "stream",
     "text": [
      "Train features shape: (491, 17)\n",
      "Test features shape: (123, 17)\n",
      "Train target shape: (491,)\n",
      "Test target shape: (123,)\n"
     ]
    }
   ],
   "source": [
    "print(\"Train features shape:\", X_train.shape)\n",
    "print(\"Test features shape:\", X_test.shape)\n",
    "print(\"Train target shape:\", y_train.shape)\n",
    "print(\"Test target shape:\", y_test.shape)"
   ]
  }
 ],
 "metadata": {
  "kernelspec": {
   "display_name": "Python 3",
   "language": "python",
   "name": "python3"
  },
  "language_info": {
   "codemirror_mode": {
    "name": "ipython",
    "version": 3
   },
   "file_extension": ".py",
   "mimetype": "text/x-python",
   "name": "python",
   "nbconvert_exporter": "python",
   "pygments_lexer": "ipython3",
   "version": "3.11.3"
  }
 },
 "nbformat": 4,
 "nbformat_minor": 2
}
